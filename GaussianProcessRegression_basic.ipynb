{
 "cells": [
  {
   "cell_type": "code",
   "execution_count": 1114,
   "metadata": {},
   "outputs": [],
   "source": [
    "import pandas as pd\n",
    "import numpy as np\n",
    "from matplotlib import pyplot as plt\n",
    "from sklearn.gaussian_process import GaussianProcessRegressor\n",
    "from sklearn.gaussian_process.kernels import (RBF, Matern, RationalQuadratic,\n",
    "                                              ExpSineSquared, DotProduct,\n",
    "                                              ConstantKernel as C)\n",
    "import statsmodels\n",
    "from statsmodels import \n",
    "from sklearn.metrics import mean_absolute_error"
   ]
  },
  {
   "cell_type": "code",
   "execution_count": 1116,
   "metadata": {},
   "outputs": [
    {
     "ename": "ImportError",
     "evalue": "cannot import name 'SimpleExpSmoothing'",
     "output_type": "error",
     "traceback": [
      "\u001b[0;31m---------------------------------------------------------------------------\u001b[0m",
      "\u001b[0;31mImportError\u001b[0m                               Traceback (most recent call last)",
      "\u001b[0;32m<ipython-input-1116-886bd1cc9a16>\u001b[0m in \u001b[0;36m<module>\u001b[0;34m()\u001b[0m\n\u001b[1;32m      1\u001b[0m \u001b[0;32mimport\u001b[0m \u001b[0mstatsmodels\u001b[0m\u001b[0;34m.\u001b[0m\u001b[0mapi\u001b[0m \u001b[0;32mas\u001b[0m \u001b[0msm\u001b[0m\u001b[0;34m\u001b[0m\u001b[0m\n\u001b[1;32m      2\u001b[0m \u001b[0;34m\u001b[0m\u001b[0m\n\u001b[0;32m----> 3\u001b[0;31m \u001b[0;32mfrom\u001b[0m \u001b[0mstatsmodels\u001b[0m\u001b[0;34m.\u001b[0m\u001b[0mtsa\u001b[0m\u001b[0;34m.\u001b[0m\u001b[0mapi\u001b[0m \u001b[0;32mimport\u001b[0m \u001b[0mSimpleExpSmoothing\u001b[0m\u001b[0;34m\u001b[0m\u001b[0m\n\u001b[0m",
      "\u001b[0;31mImportError\u001b[0m: cannot import name 'SimpleExpSmoothing'"
     ]
    }
   ],
   "source": [
    "import statsmodels.api as sm\n",
    "\n",
    "from statsmodels.tsa.api import SimpleExpSmoothing "
   ]
  },
  {
   "cell_type": "code",
   "execution_count": null,
   "metadata": {},
   "outputs": [],
   "source": [
    "statsmodels."
   ]
  },
  {
   "cell_type": "code",
   "execution_count": 1096,
   "metadata": {},
   "outputs": [],
   "source": [
    "df=pd.read_csv('~/Desktop/ML/periodic.csv')"
   ]
  },
  {
   "cell_type": "code",
   "execution_count": 1097,
   "metadata": {},
   "outputs": [],
   "source": [
    "X_df=df[\"t\"] \n",
    "y_df=df[\"Sum\"] "
   ]
  },
  {
   "cell_type": "code",
   "execution_count": 1098,
   "metadata": {},
   "outputs": [],
   "source": [
    "X_train=np.array(  [X_df.iloc[:28]]  ).T\n",
    "y_train=np.array([y_df.iloc[:28] ]).T\n",
    "\n",
    "X_test=np.array([X_df.iloc[28:]]).T\n",
    "y_test=np.array([y_df.iloc[28:]]).T\n"
   ]
  },
  {
   "cell_type": "code",
   "execution_count": 1099,
   "metadata": {},
   "outputs": [],
   "source": [
    "#ExpSine for periodic\n",
    "##Smooth rising trend is to be explained by an RBF kernel\n",
    "#The RBF kernel with a large length-scale enforces this component to be smooth; \n",
    "#it is not enforced that the trend is rising which leaves this choice to the GP\n",
    "\n",
    "kernels = [   \n",
    "    1.0* RBF(length_scale=500) + \n",
    "    1.0* RBF(length_scale=50) *\n",
    "    1.0* ExpSineSquared(length_scale=1.0, periodicity=7.0,length_scale_bounds=(10, 100),periodicity_bounds=(7, 7) ) \n",
    "      +    \n",
    "    1.0* RBF(length_scale=50) *\n",
    "    1.0*ExpSineSquared(length_scale=1.0, periodicity=7.0,length_scale_bounds=(0.1, 10.0),periodicity_bounds=(7, 7) )\n",
    "    ,\n",
    "    \n",
    "    1.0*Matern(length_scale=1.0, length_scale_bounds=(1, 1000), nu=5)+\n",
    "    1.0*Matern(length_scale=1.0, length_scale_bounds=(1, 1000), nu=5)*   \n",
    "      1.0* ExpSineSquared(length_scale=1.0, periodicity=7.0,length_scale_bounds=(1, 100),periodicity_bounds=(7, 7))\n",
    "    +\n",
    "   \n",
    "      1.0* ExpSineSquared(length_scale=1.0, periodicity=7.0,length_scale_bounds=(1, 100),periodicity_bounds=(7, 7))\n",
    "]\n"
   ]
  },
  {
   "cell_type": "code",
   "execution_count": 1100,
   "metadata": {},
   "outputs": [],
   "source": [
    "n_restarts_optimizer=10\n",
    "gp1 = GaussianProcessRegressor(kernel=kernels[0], n_restarts_optimizer=n_restarts_optimizer)\n",
    "gp2 = GaussianProcessRegressor(kernel=kernels[1], n_restarts_optimizer=n_restarts_optimizer)\n",
    "#gp3 = GaussianProcessRegressor(kernel=kernels[2], n_restarts_optimizer=n_restarts_optimizer)\n",
    "#gp4 = GaussianProcessRegressor(kernel=kernels[3], n_restarts_optimizer=n_restarts_optimizer)\n"
   ]
  },
  {
   "cell_type": "code",
   "execution_count": 1101,
   "metadata": {},
   "outputs": [
    {
     "name": "stderr",
     "output_type": "stream",
     "text": [
      "/Library/Frameworks/Python.framework/Versions/3.6/lib/python3.6/site-packages/sklearn/gaussian_process/gpr.py:457: UserWarning: fmin_l_bfgs_b terminated abnormally with the  state: {'grad': array([ -2.88162278e+09,   3.74558408e+14,  -6.24930055e+07,\n",
      "         9.40915516e+08,  -6.24930055e+07,   1.24951289e+08,\n",
      "         1.48931257e+09,   2.43269632e+08,  -1.29105920e+07,\n",
      "        -3.25405704e+11]), 'task': b'ABNORMAL_TERMINATION_IN_LNSRCH', 'funcalls': 53, 'nit': 2, 'warnflag': 2}\n",
      "  \" state: %s\" % convergence_dict)\n"
     ]
    }
   ],
   "source": [
    "gp1.fit(X_train, y_train);\n",
    "gp2.fit(X_train, y_train);\n",
    "#gp3.fit(X, y);\n",
    "#gp4.fit(X, y);"
   ]
  },
  {
   "cell_type": "code",
   "execution_count": 1102,
   "metadata": {},
   "outputs": [],
   "source": [
    "pred=np.array([list(range(0,56))]).T\n",
    "p1=gp1.predict(pred)\n",
    "p2=gp2.predict(pred)\n",
    "#p3=gp3.predict(pred)\n",
    "#p4=gp4.predict(pred)"
   ]
  },
  {
   "cell_type": "code",
   "execution_count": 1103,
   "metadata": {},
   "outputs": [
    {
     "data": {
      "image/png": "[encoded data removed]",
      "text/plain": [
       "<matplotlib.figure.Figure at 0x10c8923c8>"
      ]
     },
     "metadata": {},
     "output_type": "display_data"
    }
   ],
   "source": [
    "###  RESULTS VARY BY RUN.  This is sampling \n",
    "plt.plot(p1 )\n",
    "#plt.plot(p2)\n",
    "#plt.plot(p3) \n",
    "#plt.plot(p4)\n",
    "#plt.scatter(X, y)\n",
    "plt.scatter(X_train, y_train)\n",
    "plt.plot(X_test, y_test,'-ok')\n",
    "mae=mean_absolute_error(y_test, p1[28:])\n",
    "mae2=mean_absolute_error(y_test, p2[28:])\n",
    "plt.title( round(mae,2))\n",
    "plt.xlim(xmin=28)\n",
    "plt.show()"
   ]
  },
  {
   "cell_type": "code",
   "execution_count": 1104,
   "metadata": {},
   "outputs": [
    {
     "data": {
      "image/png": "[encoded data removed]",
      "text/plain": [
       "<matplotlib.figure.Figure at 0x10afad4a8>"
      ]
     },
     "metadata": {},
     "output_type": "display_data"
    }
   ],
   "source": [
    "#gp1.kernel_\n",
    "plt.plot(X_test, y_test,'-ok')\n",
    "plt.title( round(mae2,2))\n",
    "plt.plot(p2)\n",
    "plt.xlim(xmin=28)\n",
    "plt.show()"
   ]
  },
  {
   "cell_type": "code",
   "execution_count": 1105,
   "metadata": {},
   "outputs": [
    {
     "data": {
      "text/plain": [
       "249**2 * Matern(length_scale=782, nu=5) + 1.64**2 * Matern(length_scale=1, nu=5) * 1.07**2 * ExpSineSquared(length_scale=53, periodicity=7) + 3.47**2 * ExpSineSquared(length_scale=1, periodicity=7)"
      ]
     },
     "execution_count": 1105,
     "metadata": {},
     "output_type": "execute_result"
    }
   ],
   "source": [
    "gp2.kernel_"
   ]
  },
  {
   "cell_type": "code",
   "execution_count": 1110,
   "metadata": {},
   "outputs": [
    {
     "data": {
      "text/plain": [
       "array([[ 120.30874356]])"
      ]
     },
     "execution_count": 1110,
     "metadata": {},
     "output_type": "execute_result"
    }
   ],
   "source": [
    "gp1.predict(62)"
   ]
  },
  {
   "cell_type": "code",
   "execution_count": null,
   "metadata": {},
   "outputs": [],
   "source": []
  }
 ],
 "metadata": {
  "kernelspec": {
   "display_name": "Python 3",
   "language": "python",
   "name": "python3"
  },
  "language_info": {
   "codemirror_mode": {
    "name": "ipython",
    "version": 3
   },
   "file_extension": ".py",
   "mimetype": "text/x-python",
   "name": "python",
   "nbconvert_exporter": "python",
   "pygments_lexer": "ipython3",
   "version": "3.6.3"
  }
 },
 "nbformat": 4,
 "nbformat_minor": 2
}
