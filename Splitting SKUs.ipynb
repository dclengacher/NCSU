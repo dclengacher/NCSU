{
 "cells": [
  {
   "cell_type": "code",
   "execution_count": 308,
   "metadata": {},
   "outputs": [],
   "source": [
    "import keras\n",
    "import datetime\n",
    "import pandas as pd\n",
    "import numpy as np\n",
    "import matplotlib.pyplot as plt\n",
    "# Setting seed for reproducability\n",
    "np.random.seed(1234)  \n",
    "PYTHONHASHSEED = 0\n",
    "from sklearn import preprocessing\n",
    "from sklearn.metrics import confusion_matrix, recall_score, precision_score\n",
    "from keras.models import Sequential,model_from_json\n",
    "from keras.layers import Dense, Dropout, LSTM, Activation\n",
    "%matplotlib inline\n",
    "from decimal import Decimal\n",
    "import warnings\n",
    "warnings.filterwarnings(\"ignore\")\n",
    "import pickle\n",
    "from sklearn.preprocessing import OneHotEncoder,LabelEncoder\n",
    "from sklearn.preprocessing import Normalizer, MinMaxScaler\n",
    "from numpy.random import seed\n",
    "seed(1)\n",
    "from tensorflow import set_random_seed\n",
    "set_random_seed(2)\n",
    "from sklearn.metrics import mean_absolute_error\n",
    "from sklearn import ensemble\n",
    "from sklearn.ensemble import RandomForestRegressor\n",
    "from sklearn.multioutput import MultiOutputRegressor"
   ]
  },
  {
   "cell_type": "code",
   "execution_count": 328,
   "metadata": {},
   "outputs": [],
   "source": [
    "df=pd.read_csv('C:\\\\Users\\\\lengada1\\\\NCSU\\\\ten_skus.csv')\n",
    "df['Date'] = pd.to_datetime(df['Date'])\n",
    "df['Year'] = df['Date'].dt.year\n",
    "df['Month'] = df['Date'].dt.month\n",
    "df['Day'] = df['Date'].dt.weekday_name\n",
    "\n",
    "day_dummy=pd.get_dummies(df.Day)\n",
    "df=pd.concat([df,day_dummy],axis=1)\n",
    "df.drop(['Day','Date'],inplace=True,axis=1)\n"
   ]
  },
  {
   "cell_type": "code",
   "execution_count": 329,
   "metadata": {},
   "outputs": [],
   "source": [
    "def split_df(df):\n",
    "    d={}\n",
    "    split_by_list=np.unique(df.id.values)\n",
    "    for sku in split_by_list:\n",
    "        d[sku]=df[df.id==sku]\n",
    "    return d\n",
    "\n",
    "df_dict=split_df(df);"
   ]
  },
  {
   "cell_type": "code",
   "execution_count": 330,
   "metadata": {},
   "outputs": [],
   "source": [
    "y={}\n",
    "for sku in list(df_dict.keys()):\n",
    "    y[sku]=df_dict[sku]['Sales']"
   ]
  },
  {
   "cell_type": "code",
   "execution_count": 331,
   "metadata": {},
   "outputs": [],
   "source": [
    "X={}\n",
    "for sku in list(df_dict.keys()):\n",
    "    X[sku]=df_dict[sku]\n",
    "    X[sku]=X[sku].drop(['id','DayOfWeek','Customers','High_Var','Luxury','Sales'],axis=1)"
   ]
  },
  {
   "cell_type": "code",
   "execution_count": 333,
   "metadata": {},
   "outputs": [],
   "source": [
    "for sku in list(df_dict.keys()):\n",
    "    for obs in range(1,8):\n",
    "        X[sku][\"Sales_T\"+str(obs)]=df_dict[sku]['Sales'].shift(obs)"
   ]
  },
  {
   "cell_type": "code",
   "execution_count": 334,
   "metadata": {},
   "outputs": [],
   "source": [
    "for sku in list(df_dict.keys()):\n",
    "    X[sku][\"Mov_avg\"]=pd.rolling_mean(df_dict[sku]['Sales'], window=7).shift(1) "
   ]
  },
  {
   "cell_type": "code",
   "execution_count": 335,
   "metadata": {},
   "outputs": [],
   "source": [
    "#Cut lagged vars NAs off top \n",
    "cut_lag=7;\n",
    "for sku in list(df_dict.keys()):\n",
    "    y[sku]=y[sku][cut_lag:]\n",
    "    y[sku].reset_index(drop=True, inplace=True)\n",
    "    \n",
    "for sku in list(df_dict.keys()):\n",
    "    X[sku]=X[sku][cut_lag:]\n",
    "    X[sku].reset_index(drop=True, inplace=True)"
   ]
  },
  {
   "cell_type": "code",
   "execution_count": 336,
   "metadata": {},
   "outputs": [
    {
     "data": {
      "text/html": [
       "<div>\n",
       "<style scoped>\n",
       "    .dataframe tbody tr th:only-of-type {\n",
       "        vertical-align: middle;\n",
       "    }\n",
       "\n",
       "    .dataframe tbody tr th {\n",
       "        vertical-align: top;\n",
       "    }\n",
       "\n",
       "    .dataframe thead th {\n",
       "        text-align: right;\n",
       "    }\n",
       "</style>\n",
       "<table border=\"1\" class=\"dataframe\">\n",
       "  <thead>\n",
       "    <tr style=\"text-align: right;\">\n",
       "      <th></th>\n",
       "      <th>Open</th>\n",
       "      <th>Promo</th>\n",
       "      <th>SchoolHoliday</th>\n",
       "      <th>Year</th>\n",
       "      <th>Month</th>\n",
       "      <th>Friday</th>\n",
       "      <th>Monday</th>\n",
       "      <th>Saturday</th>\n",
       "      <th>Sunday</th>\n",
       "      <th>Thursday</th>\n",
       "      <th>Tuesday</th>\n",
       "      <th>Wednesday</th>\n",
       "      <th>Sales_T1</th>\n",
       "      <th>Sales_T2</th>\n",
       "      <th>Sales_T3</th>\n",
       "      <th>Sales_T4</th>\n",
       "      <th>Sales_T5</th>\n",
       "      <th>Sales_T6</th>\n",
       "      <th>Sales_T7</th>\n",
       "      <th>Mov_avg</th>\n",
       "    </tr>\n",
       "  </thead>\n",
       "  <tbody>\n",
       "    <tr>\n",
       "      <th>0</th>\n",
       "      <td>1</td>\n",
       "      <td>1</td>\n",
       "      <td>1</td>\n",
       "      <td>2013</td>\n",
       "      <td>1</td>\n",
       "      <td>0</td>\n",
       "      <td>0</td>\n",
       "      <td>0</td>\n",
       "      <td>0</td>\n",
       "      <td>0</td>\n",
       "      <td>1</td>\n",
       "      <td>0</td>\n",
       "      <td>7176.0</td>\n",
       "      <td>0.0</td>\n",
       "      <td>4997.0</td>\n",
       "      <td>4486.0</td>\n",
       "      <td>4327.0</td>\n",
       "      <td>5530.0</td>\n",
       "      <td>0.0</td>\n",
       "      <td>3788.000000</td>\n",
       "    </tr>\n",
       "    <tr>\n",
       "      <th>1</th>\n",
       "      <td>1</td>\n",
       "      <td>1</td>\n",
       "      <td>1</td>\n",
       "      <td>2013</td>\n",
       "      <td>1</td>\n",
       "      <td>0</td>\n",
       "      <td>0</td>\n",
       "      <td>0</td>\n",
       "      <td>0</td>\n",
       "      <td>0</td>\n",
       "      <td>0</td>\n",
       "      <td>1</td>\n",
       "      <td>5580.0</td>\n",
       "      <td>7176.0</td>\n",
       "      <td>0.0</td>\n",
       "      <td>4997.0</td>\n",
       "      <td>4486.0</td>\n",
       "      <td>4327.0</td>\n",
       "      <td>5530.0</td>\n",
       "      <td>4585.142857</td>\n",
       "    </tr>\n",
       "    <tr>\n",
       "      <th>2</th>\n",
       "      <td>1</td>\n",
       "      <td>1</td>\n",
       "      <td>1</td>\n",
       "      <td>2013</td>\n",
       "      <td>1</td>\n",
       "      <td>0</td>\n",
       "      <td>0</td>\n",
       "      <td>0</td>\n",
       "      <td>0</td>\n",
       "      <td>1</td>\n",
       "      <td>0</td>\n",
       "      <td>0</td>\n",
       "      <td>5471.0</td>\n",
       "      <td>5580.0</td>\n",
       "      <td>7176.0</td>\n",
       "      <td>0.0</td>\n",
       "      <td>4997.0</td>\n",
       "      <td>4486.0</td>\n",
       "      <td>4327.0</td>\n",
       "      <td>4576.714286</td>\n",
       "    </tr>\n",
       "    <tr>\n",
       "      <th>3</th>\n",
       "      <td>1</td>\n",
       "      <td>1</td>\n",
       "      <td>1</td>\n",
       "      <td>2013</td>\n",
       "      <td>1</td>\n",
       "      <td>1</td>\n",
       "      <td>0</td>\n",
       "      <td>0</td>\n",
       "      <td>0</td>\n",
       "      <td>0</td>\n",
       "      <td>0</td>\n",
       "      <td>0</td>\n",
       "      <td>4892.0</td>\n",
       "      <td>5471.0</td>\n",
       "      <td>5580.0</td>\n",
       "      <td>7176.0</td>\n",
       "      <td>0.0</td>\n",
       "      <td>4997.0</td>\n",
       "      <td>4486.0</td>\n",
       "      <td>4657.428571</td>\n",
       "    </tr>\n",
       "    <tr>\n",
       "      <th>4</th>\n",
       "      <td>1</td>\n",
       "      <td>0</td>\n",
       "      <td>0</td>\n",
       "      <td>2013</td>\n",
       "      <td>1</td>\n",
       "      <td>0</td>\n",
       "      <td>0</td>\n",
       "      <td>1</td>\n",
       "      <td>0</td>\n",
       "      <td>0</td>\n",
       "      <td>0</td>\n",
       "      <td>0</td>\n",
       "      <td>4881.0</td>\n",
       "      <td>4892.0</td>\n",
       "      <td>5471.0</td>\n",
       "      <td>5580.0</td>\n",
       "      <td>7176.0</td>\n",
       "      <td>0.0</td>\n",
       "      <td>4997.0</td>\n",
       "      <td>4713.857143</td>\n",
       "    </tr>\n",
       "  </tbody>\n",
       "</table>\n",
       "</div>"
      ],
      "text/plain": [
       "   Open  Promo  SchoolHoliday  Year  Month  Friday  Monday  Saturday  Sunday  \\\n",
       "0     1      1              1  2013      1       0       0         0       0   \n",
       "1     1      1              1  2013      1       0       0         0       0   \n",
       "2     1      1              1  2013      1       0       0         0       0   \n",
       "3     1      1              1  2013      1       1       0         0       0   \n",
       "4     1      0              0  2013      1       0       0         1       0   \n",
       "\n",
       "   Thursday  Tuesday  Wednesday  Sales_T1  Sales_T2  Sales_T3  Sales_T4  \\\n",
       "0         0        1          0    7176.0       0.0    4997.0    4486.0   \n",
       "1         0        0          1    5580.0    7176.0       0.0    4997.0   \n",
       "2         1        0          0    5471.0    5580.0    7176.0       0.0   \n",
       "3         0        0          0    4892.0    5471.0    5580.0    7176.0   \n",
       "4         0        0          0    4881.0    4892.0    5471.0    5580.0   \n",
       "\n",
       "   Sales_T5  Sales_T6  Sales_T7      Mov_avg  \n",
       "0    4327.0    5530.0       0.0  3788.000000  \n",
       "1    4486.0    4327.0    5530.0  4585.142857  \n",
       "2    4997.0    4486.0    4327.0  4576.714286  \n",
       "3       0.0    4997.0    4486.0  4657.428571  \n",
       "4    7176.0       0.0    4997.0  4713.857143  "
      ]
     },
     "execution_count": 336,
     "metadata": {},
     "output_type": "execute_result"
    }
   ],
   "source": [
    "X[1].head()"
   ]
  },
  {
   "cell_type": "code",
   "execution_count": 762,
   "metadata": {},
   "outputs": [],
   "source": [
    "def RF_model(X_train, X_test, y_train, y_test):\n",
    "    tree=RandomForestRegressor( random_state=2)\n",
    "    tree.fit(X_train,y_train)\n",
    "    pred=tree.predict(X_test)\n",
    "    pred=pd.DataFrame(pred)\n",
    "    pred.reset_index(drop=True, inplace=True)\n",
    "    pred=pred.rename(columns = {0:'RF'})\n",
    "    return pred\n",
    "\n",
    "def NN_model(X_train, X_test, y_train, y_test):\n",
    "    model = Sequential()\n",
    "    model.add(Dense(20, input_dim=X_train.shape[1], activation='linear'))\n",
    "    model.add(Dense(20, activation='relu'))\n",
    "    model.add(Dense(40, activation='linear'))\n",
    "    model.add(Dense(10, activation='relu'))\n",
    "    model.add(Dense(1, activation='linear'))\n",
    "    model.compile(loss='mse', optimizer='adam', metrics=['mae','mse'])\n",
    "    model.fit(X_train, y_train, epochs=800, batch_size=10, verbose=0)\n",
    "    prediction=model.predict(X_test, verbose=0)\n",
    "    pred=pd.DataFrame(prediction)\n",
    "    pred.reset_index(drop=True, inplace=True)\n",
    "    pred=pred.rename(columns = {0:'NN'})\n",
    "    return pred\n",
    "\n",
    "def GB_model(X_train, X_test, y_train, y_test):\n",
    "    params = {'n_estimators': 500, 'max_depth': 40, 'min_samples_split': 20,\n",
    "          'learning_rate': 0.01, 'loss': 'ls'}\n",
    "    model = ensemble.GradientBoostingRegressor(**params)\n",
    "    model.fit(X_train, y_train)\n",
    "    prediction=model.predict(X_test)\n",
    "    pred=pd.DataFrame(prediction)\n",
    "    pred.reset_index(drop=True, inplace=True)\n",
    "    pred=pred.rename(columns = {0:'GB'})\n",
    "    return pred"
   ]
  },
  {
   "cell_type": "code",
   "execution_count": 763,
   "metadata": {},
   "outputs": [],
   "source": [
    "train_size=800\n",
    "X_train={}\n",
    "X_test={}\n",
    "y_train={}\n",
    "y_test={}\n",
    "\n",
    "for sku in list(df_dict.keys()):\n",
    "    X_train[sku],X_test[sku],y_train[sku],y_test[sku] =  X[sku][0:train_size], X[sku][train_size:len(X[sku])], y[sku][0:train_size], y[sku][train_size:len(X[sku])]"
   ]
  },
  {
   "cell_type": "code",
   "execution_count": 764,
   "metadata": {},
   "outputs": [],
   "source": [
    "# Fit Models\n",
    "rf_models={};\n",
    "for sku in list(df_dict.keys()):\n",
    "    rf_models[sku]=RF_model( X_train[sku],X_test[sku],y_train[sku],y_test[sku]   )\n",
    "\n",
    "nn_models={};\n",
    "for sku in list(df_dict.keys()):\n",
    "    nn_models[sku]=NN_model( X_train[sku],X_test[sku],y_train[sku],y_test[sku]   )\n"
   ]
  },
  {
   "cell_type": "code",
   "execution_count": 765,
   "metadata": {},
   "outputs": [],
   "source": [
    "gb_models={};\n",
    "for sku in list(df_dict.keys()):\n",
    "    gb_models[sku]=GB_model( X_train[sku],X_test[sku],y_train[sku],y_test[sku]   )"
   ]
  },
  {
   "cell_type": "code",
   "execution_count": 766,
   "metadata": {},
   "outputs": [],
   "source": [
    "all_pred={}\n",
    "for sku in list(df_dict.keys()):\n",
    "    y_test[sku].reset_index(drop=True, inplace=True)\n",
    "    all_pred[sku]=pd.concat([rf_models[sku],nn_models[sku],gb_models[sku],y_test[sku]],axis=1)\n",
    "    "
   ]
  },
  {
   "cell_type": "code",
   "execution_count": 767,
   "metadata": {},
   "outputs": [
    {
     "data": {
      "text/plain": [
       "[322.0, 767.0, 340.0]"
      ]
     },
     "execution_count": 767,
     "metadata": {},
     "output_type": "execute_result"
    }
   ],
   "source": [
    "def MAE_score(y_true,pred1, pred2,pred3):\n",
    "    mae1 = mean_absolute_error(y_true, pred1)\n",
    "    mae2 = mean_absolute_error(y_true, pred2)\n",
    "    mae3 = mean_absolute_error(y_true, pred3)\n",
    "    return [mae1.round(),mae2.round(),mae3.round()]\n",
    "MAE_score(y_test[1],rf_models[1],nn_models[1],gb_models[1])"
   ]
  },
  {
   "cell_type": "code",
   "execution_count": 768,
   "metadata": {},
   "outputs": [],
   "source": [
    "mae=[]\n",
    "for sku in list(df_dict.keys()):\n",
    "    mae.append(MAE_score(all_pred[sku]['Sales'],all_pred[1]['RF'] ,all_pred[1]['NN'],all_pred[1]['GB'] ) )\n",
    "mae=pd.DataFrame(mae)\n",
    "mae=mae.rename(columns = {0:'RF',1:'NN',2:'GB'})\n",
    "\n",
    "best=mae.idxmin(axis=1)\n",
    "best.astype('category')\n",
    "mae[\"Best\"]=best\n",
    "mae.index = mae.index + 1\n"
   ]
  },
  {
   "cell_type": "code",
   "execution_count": 770,
   "metadata": {},
   "outputs": [],
   "source": [
    "def best_model(scores,X,y):\n",
    "    d={}\n",
    "    for sku in list(df_dict.keys()):\n",
    "        \n",
    "        if scores.loc[sku][\"Best\"]==\"RF\":\n",
    "            tree=RandomForestRegressor( random_state=2)\n",
    "            tree.fit(X[sku],y[sku])\n",
    "            pred=tree.predict(X[sku])\n",
    "            pred=pd.DataFrame(pred)\n",
    "            pred.reset_index(drop=True, inplace=True)\n",
    "            pred=pred.rename(columns = {0:'RF'})\n",
    "            d[sku]=pred\n",
    "            \n",
    "        \n",
    "        elif scores.loc[sku][\"Best\"]==\"NN\":\n",
    "            model = Sequential()\n",
    "            model.add(Dense(20, input_dim=X_train.shape[1], activation='linear'))\n",
    "            model.add(Dense(20, activation='relu'))\n",
    "            model.add(Dense(40, activation='linear'))\n",
    "            model.add(Dense(10, activation='relu'))\n",
    "            model.add(Dense(1, activation='linear'))\n",
    "            model.compile(loss='mse', optimizer='adam', metrics=['mae','mse'])\n",
    "            model.fit(X[sku], y[sku], epochs=1, batch_size=10, verbose=0)\n",
    "            prediction=model.predict(X_test, verbose=0)\n",
    "            pred=pd.DataFrame(prediction)\n",
    "            pred.reset_index(drop=True, inplace=True)\n",
    "            pred=pred.rename(columns = {0:'NN'})\n",
    "            d[sku]=pred\n",
    "                    \n",
    "            \n",
    "        elif scores.loc[sku][\"Best\"]==\"GB\":\n",
    "            params = {'n_estimators': 500, 'max_depth': 40, 'min_samples_split': 20,\n",
    "          'learning_rate': 0.01, 'loss': 'ls'}\n",
    "            model = ensemble.GradientBoostingRegressor(**params)\n",
    "            model.fit(X[sku], y[sku])\n",
    "            prediction=model.predict(X[sku])\n",
    "            pred=pd.DataFrame(prediction)\n",
    "            pred.reset_index(drop=True, inplace=True)\n",
    "            pred=pred.rename(columns = {0:'GB'})\n",
    "            d[sku]=pred  \n",
    "    return d      "
   ]
  },
  {
   "cell_type": "code",
   "execution_count": 771,
   "metadata": {},
   "outputs": [],
   "source": [
    "bm_dict=best_model(mae,X,y)"
   ]
  },
  {
   "cell_type": "code",
   "execution_count": 772,
   "metadata": {},
   "outputs": [
    {
     "data": {
      "text/plain": [
       "(935, 11)"
      ]
     },
     "execution_count": 772,
     "metadata": {},
     "output_type": "execute_result"
    }
   ],
   "source": [
    "sku_pred=pd.concat([ bm_dict[1],bm_dict[2],bm_dict[3],bm_dict[4],bm_dict[5],bm_dict[6],bm_dict[7],bm_dict[8],bm_dict[9],bm_dict[10],\n",
    "],axis=1) \n",
    "sku_pred['Total'] = sku_pred.sum(axis=1)\n",
    "sku_pred.columns = ['1','2','3','4','5','6','7','8','9','10','Total']\n",
    "sku_pred.to_csv('C:\\\\Users\\\\lengada1\\\\NCSU\\\\prediction_skus.csv')\n",
    "sku_pred.shape"
   ]
  }
 ],
 "metadata": {
  "kernelspec": {
   "display_name": "Python 3",
   "language": "python",
   "name": "python3"
  },
  "language_info": {
   "codemirror_mode": {
    "name": "ipython",
    "version": 3
   },
   "file_extension": ".py",
   "mimetype": "text/x-python",
   "name": "python",
   "nbconvert_exporter": "python",
   "pygments_lexer": "ipython3",
   "version": "3.6.5"
  }
 },
 "nbformat": 4,
 "nbformat_minor": 2
}
